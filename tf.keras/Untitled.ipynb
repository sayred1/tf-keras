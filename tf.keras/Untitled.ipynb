{
 "cells": [
  {
   "cell_type": "code",
   "execution_count": 1,
   "metadata": {},
   "outputs": [],
   "source": [
    "import tensorflow as tf\n",
    "from IPython.display import Image"
   ]
  },
  {
   "cell_type": "code",
   "execution_count": 7,
   "metadata": {},
   "outputs": [],
   "source": [
    "num_nodes = 50\n",
    "num_features = 58\n",
    "X = tf.placeholder(tf.float64, [None, num_nodes, num_features])\n",
    "A = tf.placeholder(tf.float64, [None, num_nodes, num_nodes])\n",
    "Y_truth = tf.placeholder(tf.float64, [None,])"
   ]
  },
  {
   "cell_type": "code",
   "execution_count": 18,
   "metadata": {},
   "outputs": [],
   "source": [
    "def graph_conv(_X, _A, output_dim):\n",
    "    output = tf.layers.dense(_X, units=output_dim, use_bias=True)\n",
    "    output = tf.matmul(_A, output)\n",
    "    output = tf.nn.relu(output)\n",
    "    return output\n",
    "def readout_nw(_X, output_dim):\n",
    "    # _X : final node embeddings\n",
    "    output = tf.layers.dense(_X, output_dim, use_bias=True)\n",
    "    output = tf.reduce_sum(output, axis=1)\n",
    "    output = tf.nn.relu(output)\n",
    "    return output"
   ]
  },
  {
   "cell_type": "code",
   "execution_count": 19,
   "metadata": {},
   "outputs": [],
   "source": [
    "# input features are 58 \n",
    "gconv1 = graph_conv(X, A, 32) # 58 -- > 32\n",
    "gconv2 = graph_conv(gconv1, A, 32) # 32\n",
    "gconv3 = graph_conv(gconv2, A, 32) # 32\n",
    "readout1 = readout_nw(gconv3, 128) # 32 -- > 128"
   ]
  },
  {
   "cell_type": "code",
   "execution_count": null,
   "metadata": {},
   "outputs": [],
   "source": []
  }
 ],
 "metadata": {
  "kernelspec": {
   "display_name": "Python 3",
   "language": "python",
   "name": "python3"
  },
  "language_info": {
   "codemirror_mode": {
    "name": "ipython",
    "version": 3
   },
   "file_extension": ".py",
   "mimetype": "text/x-python",
   "name": "python",
   "nbconvert_exporter": "python",
   "pygments_lexer": "ipython3",
   "version": "3.7.1"
  }
 },
 "nbformat": 4,
 "nbformat_minor": 2
}
