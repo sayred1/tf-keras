{
 "cells": [
  {
   "cell_type": "code",
   "execution_count": null,
   "metadata": {},
   "outputs": [],
   "source": [
    "import tensorflow as tf\n",
    "from tensorflow.keras import layers"
   ]
  },
  {
   "cell_type": "code",
   "execution_count": null,
   "metadata": {},
   "outputs": [],
   "source": [
    "def(get_Weight_Bias):\n",
    "    # this process occurs for all models -------------\n",
    "    num_atoms = int(K.shape(adjacency)[1]) # number of atoms\n",
    "    input_dim = int(K.shape(adjacency)[2]) # number of input molecules\n",
    "    hidden_dim = [] # contains input and all hidden layers\n",
    "    hidden_dim.append(input_dim) \n",
    "    for layers in num_layers:\n",
    "        # 32 is the output of each hidden layer\n",
    "        hidden_dim.append(32)\n",
    "    #-------------------------------------------------\n",
    "    _adjacency = adjacency\n",
    "    #conjuring the weights and bias for gcn and gcn+gate are the same\n",
    "    if model == nameTBD.model[0] or model == nameTBD.model[2]:\n",
    "        for i in range(len(hidden_dim)-1):\n",
    "            weight = \n",
    "            bias = \n",
    "\n",
    "def(get_input):\n",
    "    \n",
    "\n",
    "def GCN(features,adjacency,weight,bias,num_layers):\n",
    "    \n",
    "    model = tf.keras.Sequential([\n",
    "    layers.Dense(output_shape = 32, activation='relu', input_shape = 32)\n",
    "        \n",
    "        \n",
    "        \n",
    "        \n",
    "        \n",
    "        \n",
    "    ])"
   ]
  }
 ],
 "metadata": {
  "kernelspec": {
   "display_name": "Python 3",
   "language": "python",
   "name": "python3"
  },
  "language_info": {
   "codemirror_mode": {
    "name": "ipython",
    "version": 3
   },
   "file_extension": ".py",
   "mimetype": "text/x-python",
   "name": "python",
   "nbconvert_exporter": "python",
   "pygments_lexer": "ipython3",
   "version": "3.7.1"
  }
 },
 "nbformat": 4,
 "nbformat_minor": 2
}
