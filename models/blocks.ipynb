{
 "cells": [
  {
   "cell_type": "markdown",
   "metadata": {},
   "source": [
    "## Here I translate GCN in tensorflow to GCN in tensorflow.keras\n",
    "### Starting with 1 layer"
   ]
  },
  {
   "cell_type": "code",
   "execution_count": 120,
   "metadata": {},
   "outputs": [],
   "source": [
    "# dependencies\n",
    "import tensorflow as tf\n",
    "import numpy as np\n",
    "import os\n",
    "from tensorflow.keras import layers"
   ]
  },
  {
   "cell_type": "code",
   "execution_count": 2,
   "metadata": {},
   "outputs": [
    {
     "name": "stdout",
     "output_type": "stream",
     "text": [
      "1.13.0-rc2\n",
      "2.2.4-tf\n"
     ]
    }
   ],
   "source": [
    "# tf and tf keras versions\n",
    "print(tf.VERSION)\n",
    "print(tf.keras.__version__)"
   ]
  },
  {
   "cell_type": "markdown",
   "metadata": {},
   "source": [
    "Make a class"
   ]
  },
  {
   "cell_type": "code",
   "execution_count": null,
   "metadata": {},
   "outputs": [],
   "source": [
    "import keras.backend as K\n",
    "# what will each model initially require?\n",
    "\n",
    "class nameTBD():\n",
    "    def __init__(self,num_epoch,num_layers,batch_size, model):\n",
    "        # each model will need all of this information to implement \n",
    "        '''\n",
    "        arguments & public attributes\n",
    "        modefied by user\n",
    "        '''\n",
    "        self.num_epoch = num_epoch\n",
    "        self.num_layers = num_layers\n",
    "        self.batch_size = batch_size\n",
    "        '''\n",
    "        private attributes\n",
    "        '''\n",
    "        self._num_atoms = num_atoms\n",
    "        self._num_neighbors = num_neighbors\n",
    "        self._adjacency = K.placeholder(shape = [self.batch_size,50,50], dtype = 'float64')\n",
    "        self._features = K.placeholder(shape = [self.batch_size,50,58], dtype = 'float64')\n",
    "        self._properties = K.placeholder(shape = [self.batch_size], dtype = 'float64')\n",
    "        \n",
    "        models = ['', '']\n",
    "        \n",
    "        if model in models:\n",
    "            self._model = model\n",
    "            \n",
    "        else:\n",
    "            print('Not implemented')\n",
    "            raise ValueError\n",
    "    def model_selection()\n",
    "        \n",
    "\n",
    "    \n",
    "    \n",
    "    \n",
    "    \n",
    "    \n",
    "    "
   ]
  },
  {
   "cell_type": "code",
   "execution_count": null,
   "metadata": {},
   "outputs": [],
   "source": [
    "adj = np.load('/Users/b_eebs/tf-keras/ZINC/adj/0.npy')\n",
    "features = np.load('/Users/b_eebs/tf-keras/ZINC/features/0.npy')\n",
    "test = (np.load('/Users/b_eebs/tf-keras/ZINC/logP.npy')[0:10000]).astype(float) #takes the first 10,000 molecules\n",
    "\n",
    "in_put = (features, adj)\n",
    "out_put = test"
   ]
  },
  {
   "cell_type": "code",
   "execution_count": null,
   "metadata": {},
   "outputs": [],
   "source": []
  }
 ],
 "metadata": {
  "kernelspec": {
   "display_name": "Python 3",
   "language": "python",
   "name": "python3"
  },
  "language_info": {
   "codemirror_mode": {
    "name": "ipython",
    "version": 3
   },
   "file_extension": ".py",
   "mimetype": "text/x-python",
   "name": "python",
   "nbconvert_exporter": "python",
   "pygments_lexer": "ipython3",
   "version": "3.7.1"
  }
 },
 "nbformat": 4,
 "nbformat_minor": 2
}
